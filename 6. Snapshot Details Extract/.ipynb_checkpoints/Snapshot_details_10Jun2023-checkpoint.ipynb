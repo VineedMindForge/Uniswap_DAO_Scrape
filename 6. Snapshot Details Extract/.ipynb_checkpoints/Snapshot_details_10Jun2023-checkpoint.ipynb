{
 "cells": [
  {
   "cell_type": "code",
   "execution_count": 2,
   "id": "e7bb9791",
   "metadata": {},
   "outputs": [],
   "source": [
    "from selenium import webdriver\n",
    "from bs4 import BeautifulSoup\n",
    "import openpyxl,re,time,os\n",
    "\n",
    "# Initiate browser driver and open page of interest\n",
    "\n",
    "directory_path = '../data'\n",
    "\n",
    "# Check/create output directory\n",
    "if not os.path.exists(directory_path):\n",
    "    os.makedirs(directory_path)\n",
    "\n",
    "outfile_file = os.path.join(directory_path,'data.xlsx')\n",
    "\n",
    "# Load the data file\n",
    "data_workbook = openpyxl.load_workbook(outfile_file)"
   ]
  },
  {
   "cell_type": "code",
   "execution_count": 3,
   "id": "35d31a48",
   "metadata": {},
   "outputs": [
    {
     "data": {
      "text/plain": [
       "['Sheet',\n",
       " 'Posts',\n",
       " 'Portal Summary Extract',\n",
       " 'Portal Complete Extract',\n",
       " 'Snapshot Summary']"
      ]
     },
     "execution_count": 3,
     "metadata": {},
     "output_type": "execute_result"
    }
   ],
   "source": [
    "data_workbook.sheetnames"
   ]
  },
  {
   "cell_type": "code",
   "execution_count": null,
   "id": "074c4ae3",
   "metadata": {},
   "outputs": [],
   "source": [
    "Input_sheet = data_workbook['Snapshot Summary']\n",
    "\n",
    "# Create a new workbook for posts\n",
    "# posts_workbook = openpyxl.Workbook()\n",
    "Output_sheet = data_workbook.create_sheet(title='Snapshot Details')\n",
    "# create titles"
   ]
  },
  {
   "cell_type": "code",
   "execution_count": null,
   "id": "a605ca28",
   "metadata": {},
   "outputs": [],
   "source": [
    "Output_sheet.cell(row=1, column=1).value = 'Title'\n",
    "Output_sheet.cell(row=1, column=2).value = 'Status'\n",
    "Output_sheet.cell(row=1, column=3).value = 'Proposer'\n",
    "Output_sheet.cell(row=1, column=4).value = 'Proposal motivation'\n",
    "Output_sheet.cell(row=1, column=5).value = 'Start date'\n",
    "Output_sheet.cell(row=1, column=6).value = 'End date'\n"
   ]
  },
  {
   "cell_type": "code",
   "execution_count": 20,
   "id": "e00cc1d5",
   "metadata": {},
   "outputs": [
    {
     "name": "stdout",
     "output_type": "stream",
     "text": [
      "Title - [Temperature Check] Deploy Uniswap v3 on Base started\n"
     ]
    },
    {
     "ename": "AttributeError",
     "evalue": "'NoneType' object has no attribute 'text'",
     "output_type": "error",
     "traceback": [
      "\u001b[1;31m---------------------------------------------------------------------------\u001b[0m",
      "\u001b[1;31mAttributeError\u001b[0m                            Traceback (most recent call last)",
      "Cell \u001b[1;32mIn[20], line 20\u001b[0m\n\u001b[0;32m     18\u001b[0m Title, link \u001b[38;5;241m=\u001b[39m row[\u001b[38;5;241m1\u001b[39m], row[\u001b[38;5;241m5\u001b[39m]\n\u001b[0;32m     19\u001b[0m \u001b[38;5;28mprint\u001b[39m(\u001b[38;5;124mf\u001b[39m\u001b[38;5;124m'\u001b[39m\u001b[38;5;124mTitle - \u001b[39m\u001b[38;5;132;01m{\u001b[39;00mTitle\u001b[38;5;132;01m}\u001b[39;00m\u001b[38;5;124m started\u001b[39m\u001b[38;5;124m'\u001b[39m)\n\u001b[1;32m---> 20\u001b[0m \u001b[43mscrape_posts\u001b[49m\u001b[43m(\u001b[49m\u001b[43mlink\u001b[49m\u001b[43m,\u001b[49m\u001b[43m \u001b[49m\u001b[43mTitle\u001b[49m\u001b[43m,\u001b[49m\u001b[43m \u001b[49m\u001b[43mOutput_sheet\u001b[49m\u001b[43m)\u001b[49m\n\u001b[0;32m     21\u001b[0m \u001b[38;5;28mprint\u001b[39m(\u001b[38;5;124mf\u001b[39m\u001b[38;5;124m'\u001b[39m\u001b[38;5;124mTitle - \u001b[39m\u001b[38;5;132;01m{\u001b[39;00mTitle\u001b[38;5;132;01m}\u001b[39;00m\u001b[38;5;124m finished\u001b[39m\u001b[38;5;124m'\u001b[39m)\n\u001b[0;32m     22\u001b[0m \u001b[38;5;28mprint\u001b[39m(\u001b[38;5;124m\"\u001b[39m\u001b[38;5;124m*\u001b[39m\u001b[38;5;124m\"\u001b[39m\u001b[38;5;241m*\u001b[39m\u001b[38;5;241m50\u001b[39m)\n",
      "Cell \u001b[1;32mIn[19], line 16\u001b[0m, in \u001b[0;36mscrape_posts\u001b[1;34m(link, Title, sheet)\u001b[0m\n\u001b[0;32m     14\u001b[0m     row \u001b[38;5;241m=\u001b[39m sheet\u001b[38;5;241m.\u001b[39mmax_row \u001b[38;5;241m+\u001b[39m \u001b[38;5;241m1\u001b[39m\n\u001b[0;32m     15\u001b[0m   \u001b[38;5;66;03m#  Status = soup.find('span', class_='bg-violet-600 State text-white mr-2').text\u001b[39;00m\n\u001b[1;32m---> 16\u001b[0m     Proposer \u001b[38;5;241m=\u001b[39m \u001b[43msoup\u001b[49m\u001b[38;5;241;43m.\u001b[39;49m\u001b[43mfind\u001b[49m\u001b[43m(\u001b[49m\u001b[38;5;124;43m'\u001b[39;49m\u001b[38;5;124;43mspan\u001b[39;49m\u001b[38;5;124;43m'\u001b[39;49m\u001b[43m,\u001b[49m\u001b[43m \u001b[49m\u001b[43mclass_\u001b[49m\u001b[43m \u001b[49m\u001b[38;5;241;43m=\u001b[39;49m\u001b[43m \u001b[49m\u001b[38;5;124;43m'\u001b[39;49m\u001b[38;5;124;43mw-full cursor-pointer truncate text-skin-link\u001b[39;49m\u001b[38;5;124;43m'\u001b[39;49m\u001b[43m)\u001b[49m\u001b[38;5;241;43m.\u001b[39;49m\u001b[43mtext\u001b[49m\n\u001b[0;32m     17\u001b[0m   \u001b[38;5;66;03m#  Proposal_motivation = soup.find('span', class_ = 'markdown-body break-words').text\u001b[39;00m\n\u001b[0;32m     18\u001b[0m  \u001b[38;5;66;03m#   Start_date = soup.find('div', class_ = 'border-y border-skin-border bg-skin-block-bg text-base md:rounded-xl md:border').find_all('div')[3].text\u001b[39;00m\n\u001b[0;32m     19\u001b[0m  \u001b[38;5;66;03m#   End_date = soup.find('div', class_ = 'border-y border-skin-border bg-skin-block-bg text-base md:rounded-xl md:border').find_all('div')[4].text\u001b[39;00m\n\u001b[1;32m   (...)\u001b[0m\n\u001b[0;32m     25\u001b[0m \u001b[38;5;66;03m#     sheet.cell(row=row, column=5).value = Start_date\u001b[39;00m\n\u001b[0;32m     26\u001b[0m \u001b[38;5;66;03m#     sheet.cell(row=row, column=6).value = End_date\u001b[39;00m\n\u001b[0;32m     28\u001b[0m     \u001b[38;5;28mprint\u001b[39m(Title)\n",
      "\u001b[1;31mAttributeError\u001b[0m: 'NoneType' object has no attribute 'text'"
     ]
    }
   ],
   "source": [
    "# Iterate through the links in the data file\n",
    "for row in Input_sheet.iter_rows(min_row=2, max_col=9, values_only=True):\n",
    "    Title, link = row[1], row[5]\n",
    "    print(f'Title - {Title} started')\n",
    "    scrape_posts(link, Title, Output_sheet)\n",
    "    print(f'Title - {Title} finished')\n",
    "    print(\"*\"*50)\n",
    "    data_workbook.save(outfile_file)\n",
    "    break"
   ]
  },
  {
   "cell_type": "code",
   "execution_count": 19,
   "id": "366fa119",
   "metadata": {},
   "outputs": [],
   "source": [
    "    \n",
    "def scrape_posts(link, Title, sheet):\n",
    "    # Configure Selenium WebDriver (you need to download the appropriate driver for your browser)\n",
    "    geckodriver_path = './chromedriver.exe'  # Update with the correct file name and extension\n",
    "    browser = webdriver.Chrome(executable_path=geckodriver_path)\n",
    "\n",
    "    # Open the webpage\n",
    "    browser.get(link)\n",
    "    \n",
    "    # Get the HTML source of the page and parse using bs4\n",
    "    html_source = browser.page_source\n",
    "\n",
    "    soup = BeautifulSoup(html_source, 'html.parser')\n",
    "\n",
    "    row = sheet.max_row + 1\n",
    "  #  Status = soup.find('span', class_='bg-violet-600 State text-white mr-2').text\n",
    "    Proposer = soup.find('span', class_ = 'w-full cursor-pointer truncate text-skin-link').text\n",
    "  #  Proposal_motivation = soup.find('span', class_ = 'markdown-body break-words').text\n",
    " #   Start_date = soup.find('div', class_ = 'border-y border-skin-border bg-skin-block-bg text-base md:rounded-xl md:border').find_all('div')[3].text\n",
    " #   End_date = soup.find('div', class_ = 'border-y border-skin-border bg-skin-block-bg text-base md:rounded-xl md:border').find_all('div')[4].text\n",
    "            \n",
    "#     sheet.cell(row=row, column=1).value = Title\n",
    "#     sheet.cell(row=row, column=2).value = Status\n",
    "#     sheet.cell(row=row, column=3).value = Proposer\n",
    "#     sheet.cell(row=row, column=4).value = Proposal_motivation\n",
    "#     sheet.cell(row=row, column=5).value = Start_date\n",
    "#     sheet.cell(row=row, column=6).value = End_date\n",
    "\n",
    "    print(Title)\n",
    "#    print(Status)\n",
    "    print(Proposer)\n",
    " #   print(Proposal_motivation)\n",
    " #   print(Start_date)\n",
    " #   print(End_date)\n",
    "        \n",
    "    print(f\"Topic {topic} completed. Moving to next\")\n",
    "\n",
    "    browser.quit()\n",
    "    "
   ]
  },
  {
   "cell_type": "code",
   "execution_count": null,
   "id": "b0b208f3",
   "metadata": {},
   "outputs": [],
   "source": []
  }
 ],
 "metadata": {
  "kernelspec": {
   "display_name": "Python 3 (ipykernel)",
   "language": "python",
   "name": "python3"
  },
  "language_info": {
   "codemirror_mode": {
    "name": "ipython",
    "version": 3
   },
   "file_extension": ".py",
   "mimetype": "text/x-python",
   "name": "python",
   "nbconvert_exporter": "python",
   "pygments_lexer": "ipython3",
   "version": "3.11.3"
  }
 },
 "nbformat": 4,
 "nbformat_minor": 5
}
